{
 "cells": [
  {
   "cell_type": "markdown",
   "metadata": {},
   "source": [
    "## Lista de produtos em oferta no Mercado Livre"
   ]
  },
  {
   "cell_type": "code",
   "execution_count": 1,
   "metadata": {},
   "outputs": [],
   "source": [
    "import pandas as pd\n",
    "\n",
    "db = pd.read_json('data.json')"
   ]
  },
  {
   "cell_type": "code",
   "execution_count": 2,
   "metadata": {},
   "outputs": [],
   "source": [
    "title = []\n",
    "price = []\n",
    "link = []\n",
    "\n",
    "for i in db['Title'][0]:\n",
    "    title.append(i)\n",
    "\n",
    "for i in range(len(db['Price'][0])):\n",
    "    if db['Price'][0][i].startswith('R$'):\n",
    "        price.append(db['Price'][0][i])\n",
    "        \n",
    "for i in db['Link'][0]:\n",
    "    link.append(i)"
   ]
  },
  {
   "cell_type": "code",
   "execution_count": 3,
   "metadata": {},
   "outputs": [
    {
     "data": {
      "text/html": [
       "<div>\n",
       "<style scoped>\n",
       "    .dataframe tbody tr th:only-of-type {\n",
       "        vertical-align: middle;\n",
       "    }\n",
       "\n",
       "    .dataframe tbody tr th {\n",
       "        vertical-align: top;\n",
       "    }\n",
       "\n",
       "    .dataframe thead th {\n",
       "        text-align: right;\n",
       "    }\n",
       "</style>\n",
       "<table border=\"1\" class=\"dataframe\">\n",
       "  <thead>\n",
       "    <tr style=\"text-align: right;\">\n",
       "      <th></th>\n",
       "      <th>Titulo</th>\n",
       "      <th>Preço</th>\n",
       "      <th>Link</th>\n",
       "    </tr>\n",
       "  </thead>\n",
       "  <tbody>\n",
       "    <tr>\n",
       "      <th>0</th>\n",
       "      <td>Vestido Midi Godê Festa Casamento Moda Evangél...</td>\n",
       "      <td>R$ 102</td>\n",
       "      <td>https://produto.mercadolivre.com.br/MLB-156283...</td>\n",
       "    </tr>\n",
       "    <tr>\n",
       "      <th>1</th>\n",
       "      <td>Kit 4 Farol Led Redondo Milha 42w 14 Leds Carr...</td>\n",
       "      <td>R$ 94</td>\n",
       "      <td>https://produto.mercadolivre.com.br/MLB-154294...</td>\n",
       "    </tr>\n",
       "    <tr>\n",
       "      <th>2</th>\n",
       "      <td>Fritadeira Air Fry Inox Bfr11pi 3,35 Litros Br...</td>\n",
       "      <td>R$ 399</td>\n",
       "      <td>https://produto.mercadolivre.com.br/MLB-141752...</td>\n",
       "    </tr>\n",
       "    <tr>\n",
       "      <th>3</th>\n",
       "      <td>Kit 4 Cabos Rca 1 Metro Tech One Blindado Verm...</td>\n",
       "      <td>R$ 64</td>\n",
       "      <td>https://produto.mercadolivre.com.br/MLB-177247...</td>\n",
       "    </tr>\n",
       "    <tr>\n",
       "      <th>4</th>\n",
       "      <td>Kit 500 Gola Higiênica Barbearia Protetor P/ P...</td>\n",
       "      <td>R$ 44</td>\n",
       "      <td>https://produto.mercadolivre.com.br/MLB-157942...</td>\n",
       "    </tr>\n",
       "  </tbody>\n",
       "</table>\n",
       "</div>"
      ],
      "text/plain": [
       "                                              Titulo   Preço  \\\n",
       "0  Vestido Midi Godê Festa Casamento Moda Evangél...  R$ 102   \n",
       "1  Kit 4 Farol Led Redondo Milha 42w 14 Leds Carr...   R$ 94   \n",
       "2  Fritadeira Air Fry Inox Bfr11pi 3,35 Litros Br...  R$ 399   \n",
       "3  Kit 4 Cabos Rca 1 Metro Tech One Blindado Verm...   R$ 64   \n",
       "4  Kit 500 Gola Higiênica Barbearia Protetor P/ P...   R$ 44   \n",
       "\n",
       "                                                Link  \n",
       "0  https://produto.mercadolivre.com.br/MLB-156283...  \n",
       "1  https://produto.mercadolivre.com.br/MLB-154294...  \n",
       "2  https://produto.mercadolivre.com.br/MLB-141752...  \n",
       "3  https://produto.mercadolivre.com.br/MLB-177247...  \n",
       "4  https://produto.mercadolivre.com.br/MLB-157942...  "
      ]
     },
     "execution_count": 3,
     "metadata": {},
     "output_type": "execute_result"
    }
   ],
   "source": [
    "df = pd.DataFrame({\n",
    "    'Titulo':title,\n",
    "    'Preço':price,\n",
    "    'Link':link\n",
    "})\n",
    "\n",
    "df.head()"
   ]
  }
 ],
 "metadata": {
  "kernelspec": {
   "display_name": "Python 3.10.5 64-bit",
   "language": "python",
   "name": "python3"
  },
  "language_info": {
   "codemirror_mode": {
    "name": "ipython",
    "version": 3
   },
   "file_extension": ".py",
   "mimetype": "text/x-python",
   "name": "python",
   "nbconvert_exporter": "python",
   "pygments_lexer": "ipython3",
   "version": "3.10.5"
  },
  "orig_nbformat": 4,
  "vscode": {
   "interpreter": {
    "hash": "f3d558277e1468fbd6155e81dfccdb965f1cd2a6d9d32bde37de1e4b5da945bd"
   }
  }
 },
 "nbformat": 4,
 "nbformat_minor": 2
}
